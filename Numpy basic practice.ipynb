{
 "cells": [
  {
   "cell_type": "markdown",
   "id": "fbc8c215",
   "metadata": {},
   "source": [
    "### Numpy ndarray practice"
   ]
  },
  {
   "cell_type": "markdown",
   "id": "6f4eef0f",
   "metadata": {},
   "source": [
    "* ndarray 생성 np.array()"
   ]
  },
  {
   "cell_type": "code",
   "execution_count": 8,
   "id": "ac369510",
   "metadata": {},
   "outputs": [],
   "source": [
    "import numpy as np"
   ]
  },
  {
   "cell_type": "code",
   "execution_count": 9,
   "id": "96f32ca8",
   "metadata": {},
   "outputs": [
    {
     "name": "stdout",
     "output_type": "stream",
     "text": [
      "list1: [1, 2, 3]\n",
      "liest1 type: <class 'list'>\n",
      "array1: [1 2 3]\n",
      "array1 type: <class 'numpy.ndarray'>\n"
     ]
    }
   ],
   "source": [
    "list1 = [1,2,3]\n",
    "\n",
    "print('list1:',list1)\n",
    "print('liest1 type:',type(list1))\n",
    "\n",
    "array1 = np.array(list1)\n",
    "#list 타입의 list를 ndarray형의 array1으로 변환\n",
    "\n",
    "print('array1:',array1)\n",
    "print('array1 type:',type(array1))"
   ]
  },
  {
   "cell_type": "markdown",
   "id": "9c06eada",
   "metadata": {},
   "source": [
    "* ndarray의 형태(shape)와 차원"
   ]
  },
  {
   "cell_type": "code",
   "execution_count": 10,
   "id": "3d69f1af",
   "metadata": {},
   "outputs": [
    {
     "name": "stdout",
     "output_type": "stream",
     "text": [
      "array1 type :  <class 'numpy.ndarray'>\n",
      "array1 array 형태 :  (3,)\n",
      "array2 type <class 'numpy.ndarray'>\n",
      "array2 array2 형태 : (2, 3)\n",
      "array3 type <class 'numpy.ndarray'>\n",
      "array3 array 형태 : (3, 3)\n"
     ]
    }
   ],
   "source": [
    "array1 = np.array([1,2,3])\n",
    "\n",
    "print('array1 type : ',type(array1))\n",
    "print('array1 array 형태 : ',array1.shape)\n",
    "\n",
    "array2 = np.array([[1,2,3],[4,5,6]])\n",
    "print('array2 type',type(array2))\n",
    "print('array2 array2 형태 :',array2.shape)\n",
    "\n",
    "array3 = np.array([[1,2,3],[4,5,6],[7,8,9]])\n",
    "print('array3 type',type(array3))\n",
    "print('array3 array 형태 :',array3.shape)"
   ]
  },
  {
   "cell_type": "code",
   "execution_count": 11,
   "id": "76817392",
   "metadata": {},
   "outputs": [
    {
     "name": "stdout",
     "output_type": "stream",
     "text": [
      "['1' '2' 'test1'] <U11\n"
     ]
    }
   ],
   "source": [
    "list2 = [1,2,'test1']\n",
    "array2 = np.array(list2)\n",
    "print(array2,array2.dtype)\n",
    "#데이터범위가 큰 것으로 형변환이 저절로 이루어진다.\n",
    "#int -> float int -> string 등등"
   ]
  },
  {
   "cell_type": "markdown",
   "id": "b4f2fe5e",
   "metadata": {},
   "source": [
    "* astype()을 통한 타입 변환"
   ]
  },
  {
   "cell_type": "code",
   "execution_count": 12,
   "id": "076fbcd7",
   "metadata": {},
   "outputs": [
    {
     "name": "stdout",
     "output_type": "stream",
     "text": [
      "[1. 2. 3.] float64\n",
      "[1 2 3] int64\n"
     ]
    }
   ],
   "source": [
    "array_int = np.array([1,2,3])\n",
    "array_float = array_int.astype('float64')\n",
    "print(array_float,array_float.dtype)\n",
    "\n",
    "\n",
    "array_float2 = np.array([1.,2.,3.])\n",
    "array_int2 = array_float2.astype('int64')\n",
    "\n",
    "print(array_int2,array_int2.dtype)"
   ]
  },
  {
   "cell_type": "markdown",
   "id": "787c77c4",
   "metadata": {},
   "source": [
    "* ndarray에서 axis 기반의 연산함수 수행"
   ]
  },
  {
   "cell_type": "code",
   "execution_count": 13,
   "id": "8d157d12",
   "metadata": {},
   "outputs": [
    {
     "name": "stdout",
     "output_type": "stream",
     "text": [
      "21\n",
      "[5 7 9]\n",
      "[ 6 15]\n"
     ]
    }
   ],
   "source": [
    "array2 = np.array([[1,2,3],[4,5,6]])\n",
    "                   \n",
    "print(array2.sum())\n",
    "print(array2.sum(axis=0))\n",
    "print(array2.sum(axis=1))"
   ]
  },
  {
   "cell_type": "markdown",
   "id": "fa8c9020",
   "metadata": {},
   "source": [
    "* ndarray를 편하게 생성하기 - arrange, zeros, ones"
   ]
  },
  {
   "cell_type": "code",
   "execution_count": 14,
   "id": "a0ab3ec9",
   "metadata": {},
   "outputs": [
    {
     "name": "stdout",
     "output_type": "stream",
     "text": [
      "[0 1 2 3 4 5 6 7 8 9]\n",
      "2 10\n",
      "[[0 1 2 3 4 5 6 7 8 9]]\n"
     ]
    }
   ],
   "source": [
    "arr1 = np.arange(10)\n",
    "print(arr1)\n",
    "\n",
    "n,m = map(int, input().split())\n",
    "arr2 = arr1.reshape(-1,m)\n",
    "print(arr2)"
   ]
  },
  {
   "cell_type": "code",
   "execution_count": 15,
   "id": "4f0e50d2",
   "metadata": {},
   "outputs": [
    {
     "name": "stdout",
     "output_type": "stream",
     "text": [
      "[0 1 2 3 4 5 6 7 8 9]\n",
      "int32 (10,)\n"
     ]
    }
   ],
   "source": [
    "sequence_array = np.arange(10)\n",
    "print(sequence_array)\n",
    "#행렬의 자료형과, 배열 형태\n",
    "print(sequence_array.dtype, sequence_array.shape)"
   ]
  },
  {
   "cell_type": "code",
   "execution_count": 16,
   "id": "c0d370c5",
   "metadata": {},
   "outputs": [
    {
     "name": "stdout",
     "output_type": "stream",
     "text": [
      "[[0 0]\n",
      " [0 0]\n",
      " [0 0]]\n",
      "int32 (3, 2)\n",
      "[[1 1]\n",
      " [1 1]\n",
      " [1 1]]\n",
      "int32 (3, 2)\n"
     ]
    }
   ],
   "source": [
    "#0으로 초기화된 3행 2열의 2차원 배열\n",
    "zero_arr = np.zeros((3,2),dtype='int32')\n",
    "print(zero_arr)\n",
    "print(zero_arr.dtype, zero_arr.shape)\n",
    "\n",
    "#1로 초기화된 3행 2열의 2차원 배열\n",
    "one_arr = np.ones((3,2),dtype='int32')\n",
    "print(one_arr)\n",
    "print(one_arr.dtype,one_arr.shape)"
   ]
  },
  {
   "cell_type": "markdown",
   "id": "65037dbe",
   "metadata": {},
   "source": [
    "* ndarray의 shape를 변경하는 reshape()\n",
    "\n",
    "    1) reshape()에 -1인 인자값을 부여하여 특정 차원으로 고정된 가변적인 ndarray형태 변환도 가능하다."
   ]
  },
  {
   "cell_type": "code",
   "execution_count": 17,
   "id": "a769e545",
   "metadata": {},
   "outputs": [
    {
     "name": "stdout",
     "output_type": "stream",
     "text": [
      "[[0 1 2 3 4]\n",
      " [5 6 7 8 9]]\n",
      "[[0]\n",
      " [1]\n",
      " [2]\n",
      " [3]\n",
      " [4]\n",
      " [5]\n",
      " [6]\n",
      " [7]\n",
      " [8]\n",
      " [9]]\n"
     ]
    }
   ],
   "source": [
    "arr1 = np.arange(10)\n",
    "\n",
    "arr2 = arr1.reshape((2,5))\n",
    "print(arr2)\n",
    "arr3 = arr2.reshape(-1,1)\n",
    "print(arr3)\n",
    "#변환할 수 없는 shape구조를 입력하면 오류가 발생한다."
   ]
  },
  {
   "cell_type": "code",
   "execution_count": 18,
   "id": "ea412b6e",
   "metadata": {},
   "outputs": [
    {
     "name": "stdout",
     "output_type": "stream",
     "text": [
      "arr2 shape :  (2, 5)\n",
      "arr2 : \n",
      " [[0 1 2 3 4]\n",
      " [5 6 7 8 9]]\n",
      "arr3 shape :  (5, 2)\n",
      "arr3 : \n",
      " [[0 1]\n",
      " [2 3]\n",
      " [4 5]\n",
      " [6 7]\n",
      " [8 9]]\n"
     ]
    }
   ],
   "source": [
    "arr1 = np.arange(10)\n",
    "#컬럼 axis는 고정을 5로 만들고, 행은 그에 맞춰서..\n",
    "arr2 = arr1.reshape(-1,5)\n",
    "print('arr2 shape : ',arr2.shape)\n",
    "print('arr2 : \\n',arr2)\n",
    "\n",
    "\n",
    "#로우 axis는 5로 고정하고 컬럼 axis 크기는 이에 맞춰 자동적으로 변환. 즉 5x2로 \n",
    "arr3 = arr1.reshape(5,-1)\n",
    "print('arr3 shape : ',arr3.shape)\n",
    "print('arr3 : \\n',arr3)"
   ]
  },
  {
   "cell_type": "code",
   "execution_count": 19,
   "id": "0c477c78",
   "metadata": {},
   "outputs": [
    {
     "name": "stdout",
     "output_type": "stream",
     "text": [
      "arr2d_1 shape : (5, 1)\n",
      "arr2d_1 : \n",
      " [[0]\n",
      " [1]\n",
      " [2]\n",
      " [3]\n",
      " [4]]\n",
      "arr1d shape : (5,)\n",
      "arr1d : \n",
      " [0 1 2 3 4]\n"
     ]
    }
   ],
   "source": [
    "#reshape()는 (-1,1), (-1,)와 같은 형태로 주로 사용됨\n",
    "#1차원 ndarray를 2차원으로 또는 2차원 ndarray를 1차원으로 변환 시 사용\n",
    "arr1 = np.arange(5)\n",
    "\n",
    "#1차원 ndarray를 2차원으로 변환하되, 컬럼axis크기는 반드시 1이어야 한다.\n",
    "arr2d_1 = arr1.reshape(-1,1)\n",
    "print('arr2d_1 shape :',arr2d_1.shape)\n",
    "print('arr2d_1 : \\n',arr2d_1)\n",
    "\n",
    "#2차원 ndarray를 1차원으로 변환\n",
    "arr1d = arr2d_1.reshape(-1,)\n",
    "print('arr1d shape :',arr1d.shape)\n",
    "print('arr1d : \\n',arr1d)"
   ]
  },
  {
   "cell_type": "code",
   "execution_count": 20,
   "id": "d4866d64",
   "metadata": {},
   "outputs": [],
   "source": [
    "#-1을 적용하여도 변환이 불가능한 형태로의 변환을 요구할 경우 오류가 발생한다.\n",
    "array1 = np.arange(10)\n",
    "arr4 = arr1.reshape(-1,5)\n",
    "\n",
    "#그리고 reshape에서 -1 인자값은 하나만 들어갈 수 있다. "
   ]
  },
  {
   "cell_type": "markdown",
   "id": "0b0ba7d5",
   "metadata": {},
   "source": [
    "#### 인덱싱"
   ]
  },
  {
   "cell_type": "code",
   "execution_count": 21,
   "id": "42fc114f",
   "metadata": {},
   "outputs": [],
   "source": [
    "arr2d = np.array([[1,2,3],[4,5,6],[7,8,9]])\n"
   ]
  },
  {
   "cell_type": "code",
   "execution_count": 22,
   "id": "1dbd2332",
   "metadata": {},
   "outputs": [
    {
     "name": "stdout",
     "output_type": "stream",
     "text": [
      "(3, 3)\n",
      "arr2d의 열의 크기 :  3\n",
      "arr2d의 행의 크기 :  3\n",
      "45\n"
     ]
    }
   ],
   "source": [
    "#뭔가 상당히 c스러운 코딩..ㅋㅋ\n",
    "print(arr2d.shape)\n",
    "\n",
    "#행과 열 번호를 얻기 위해선 shape[1], shape[0]을 하면 된다..\n",
    "#이를 통해 합을 2중 포문을 통해 구할 수 있음. \n",
    "\n",
    "print('arr2d의 열의 크기 : ',arr2d.shape[1])\n",
    "print('arr2d의 행의 크기 : ',arr2d.shape[0])\n",
    "total=0\n",
    "for i in range(arr2d.shape[1]):\n",
    "    for j in range(arr2d.shape[0]):\n",
    "       total+=arr2d[i][j]\n",
    "\n",
    "print(total)"
   ]
  },
  {
   "cell_type": "code",
   "execution_count": 23,
   "id": "18654076",
   "metadata": {},
   "outputs": [
    {
     "name": "stdout",
     "output_type": "stream",
     "text": [
      "45\n"
     ]
    }
   ],
   "source": [
    "#Pythonic한 코딩은 슬라이싱을 통해 할 수 있다.\n",
    "\n",
    "total1 = arr2d[::].sum()\n",
    "print(total1)"
   ]
  },
  {
   "cell_type": "markdown",
   "id": "d633d379",
   "metadata": {},
   "source": [
    "1) 팬시 인덱싱(Fancy indexing)은 배열에 인덱스 번호를 지정하면 그 인덱스에 알맞는 value를 리턴하는 방식인다. 해쉬, 맵과 비슷하다."
   ]
  },
  {
   "cell_type": "code",
   "execution_count": 36,
   "id": "49448d69",
   "metadata": {},
   "outputs": [
    {
     "name": "stdout",
     "output_type": "stream",
     "text": [
      "[[1 2 3]\n",
      " [4 5 6]\n",
      " [7 8 9]]\n",
      "array2d[[0,1],2] =>  [3, 6]\n",
      "array2d[[0,2],0:2] =>  [[1, 2], [7, 8]]\n",
      "array2d[[0,1]] =>  [[1, 2, 3], [4, 5, 6]]\n"
     ]
    }
   ],
   "source": [
    "array1d = np.arange(start=1,stop=10)\n",
    "array2d = array1d.reshape(3,3)\n",
    "print(array2d)\n",
    "\n",
    "array3 = array2d[[0,1],2]\n",
    "print('array2d[[0,1],2] => ',array3.tolist())\n",
    "\n",
    "array4 = array2d[[0,2],0:2]\n",
    "print('array2d[[0,2],0:2] => ',array4.tolist())\n",
    "\n",
    "array5 = array2d[[0,1]]\n",
    "print('array2d[[0,1]] => ',array5.tolist())\n"
   ]
  },
  {
   "cell_type": "markdown",
   "id": "f2e39ca4",
   "metadata": {},
   "source": [
    "2) 불린 인덱싱(Boolean indexing)은 조건 필터링 & 검색을 동시에 할 수 있기 때문에 매우 자주 사용된다.\n",
    "      \n",
    "  * 만일 ndarray 내의 값이 5보다 큰 ndarray요소들을 추출 하고자 한다면?"
   ]
  },
  {
   "cell_type": "code",
   "execution_count": 28,
   "id": "e27b2581",
   "metadata": {},
   "outputs": [
    {
     "name": "stdout",
     "output_type": "stream",
     "text": [
      "[6 7 8 9]\n"
     ]
    }
   ],
   "source": [
    "#불린 인덱싱을 사용하지 않은 경우\n",
    "\n",
    "array1d = np.arange(start=1,stop=10)\n",
    "target=[]\n",
    "\n",
    "for i in range(0,9):\n",
    "    if array1d[i]>5:\n",
    "        target.append(array1d[i])\n",
    "\n",
    "array_selected = np.array(target)\n",
    "print(array_selected)"
   ]
  },
  {
   "cell_type": "code",
   "execution_count": 29,
   "id": "048e1cdb",
   "metadata": {},
   "outputs": [
    {
     "name": "stdout",
     "output_type": "stream",
     "text": [
      "[6 7 8 9]\n"
     ]
    }
   ],
   "source": [
    "#불린 인덱싱을 사용한 경우\n",
    "print(array1d[array1d>5])"
   ]
  },
  {
   "cell_type": "code",
   "execution_count": 38,
   "id": "4429ebe6",
   "metadata": {},
   "outputs": [
    {
     "name": "stdout",
     "output_type": "stream",
     "text": [
      "불린 인덱스로 필터링 결과 : [6 7 8 9]\n"
     ]
    }
   ],
   "source": [
    "boolean_indexes = np.array([False,False,False,False,False,True,True,True,True])\n",
    "array3 = array1d[boolean_indexes]\n",
    "print('불린 인덱스로 필터링 결과 :',array3)"
   ]
  },
  {
   "cell_type": "code",
   "execution_count": 39,
   "id": "f94ad9c5",
   "metadata": {},
   "outputs": [
    {
     "name": "stdout",
     "output_type": "stream",
     "text": [
      "일반 인덱스로 필터링 결과 : [6 7 8 9]\n"
     ]
    }
   ],
   "source": [
    "indexes = np.array([5,6,7,8])\n",
    "array4 = array1d[indexes]\n",
    "#5,6,7,8 인덱스에 해당하는 데이터값이 출력됨.\n",
    "print('일반 인덱스로 필터링 결과 :',array4)"
   ]
  },
  {
   "cell_type": "markdown",
   "id": "996967fb",
   "metadata": {},
   "source": [
    "### 행렬의 정렬 - sort()와 argsort()\n",
    "\n",
    "####   1) 행렬 정렬"
   ]
  },
  {
   "cell_type": "code",
   "execution_count": 43,
   "id": "3f092991",
   "metadata": {},
   "outputs": [
    {
     "name": "stdout",
     "output_type": "stream",
     "text": [
      "원본 행렬 :  [3 1 9 5]\n",
      "np.sort() 호출 후 반환된 행렬 : [1 3 5 9]\n",
      "np.sort() 호출 후 원본 행렬 : [3 1 9 5]\n",
      "np.sort() 호출 후 반환된 행렬 : [9 5 3 1]\n",
      "np.sort() 호출 후 원본 행렬 : [3 1 9 5]\n",
      "org_array.sort() 호출 후 반환된 행렬 : None\n",
      "org_array.sort() 호출 후 원본 행렬 : [1 3 5 9]\n"
     ]
    },
    {
     "ename": "TypeError",
     "evalue": "'NoneType' object is not subscriptable",
     "output_type": "error",
     "traceback": [
      "\u001b[1;31m---------------------------------------------------------------------------\u001b[0m",
      "\u001b[1;31mTypeError\u001b[0m                                 Traceback (most recent call last)",
      "\u001b[1;32m<ipython-input-43-94be3a765fb1>\u001b[0m in \u001b[0;36m<module>\u001b[1;34m\u001b[0m\n\u001b[0;32m     25\u001b[0m \u001b[1;31m# ndarray.sort()[::-1]로 내림차순 정렬\u001b[0m\u001b[1;33m\u001b[0m\u001b[1;33m\u001b[0m\u001b[1;33m\u001b[0m\u001b[0m\n\u001b[0;32m     26\u001b[0m \u001b[1;33m\u001b[0m\u001b[0m\n\u001b[1;32m---> 27\u001b[1;33m \u001b[0msort_desc_array2\u001b[0m \u001b[1;33m=\u001b[0m \u001b[0morg_array\u001b[0m\u001b[1;33m.\u001b[0m\u001b[0msort\u001b[0m\u001b[1;33m(\u001b[0m\u001b[1;33m)\u001b[0m\u001b[1;33m[\u001b[0m\u001b[1;33m:\u001b[0m\u001b[1;33m:\u001b[0m\u001b[1;33m-\u001b[0m\u001b[1;36m1\u001b[0m\u001b[1;33m]\u001b[0m\u001b[1;33m\u001b[0m\u001b[1;33m\u001b[0m\u001b[0m\n\u001b[0m\u001b[0;32m     28\u001b[0m \u001b[0morg_array\u001b[0m\u001b[1;33m.\u001b[0m\u001b[0msort\u001b[0m\u001b[1;33m(\u001b[0m\u001b[1;33m)\u001b[0m\u001b[1;33m[\u001b[0m\u001b[1;33m:\u001b[0m\u001b[1;33m:\u001b[0m\u001b[1;33m-\u001b[0m\u001b[1;36m1\u001b[0m\u001b[1;33m]\u001b[0m\u001b[1;33m\u001b[0m\u001b[1;33m\u001b[0m\u001b[0m\n\u001b[0;32m     29\u001b[0m \u001b[1;33m\u001b[0m\u001b[0m\n",
      "\u001b[1;31mTypeError\u001b[0m: 'NoneType' object is not subscriptable"
     ]
    }
   ],
   "source": [
    "org_array = np.array([3,1,9,5])\n",
    "print('원본 행렬 : ',org_array)\n",
    "\n",
    "#np.sort()로 오름차순 정렬\n",
    "sort_array1 = np.sort(org_array)\n",
    "\n",
    "print('np.sort() 호출 후 반환된 행렬 :',sort_array1)\n",
    "print('np.sort() 호출 후 원본 행렬 :',org_array)\n",
    "\n",
    "#np.sort()로 내림차순 정렬\n",
    "sort_desc_array1 = np.sort(org_array)[::-1]\n",
    "\n",
    "print('np.sort() 호출 후 반환된 행렬 :',sort_desc_array1)\n",
    "print('np.sort() 호출 후 원본 행렬 :',org_array)\n",
    "\n",
    "#.ndarray.sort()로 정렬 이 결과도 같을까?\n",
    "\n",
    "sort_array2 = org_array.sort()\n",
    "\n",
    "org_array.sort()\n",
    "\n",
    "print('org_array.sort() 호출 후 반환된 행렬 :',sort_array2)\n",
    "print('org_array.sort() 호출 후 원본 행렬 :',org_array)\n",
    "\n",
    "# ndarray.sort()[::-1]로 내림차순 정렬\n",
    "\n",
    "sort_desc_array2 = org_array.sort()[::-1]\n",
    "org_array.sort()[::-1]\n",
    "\n",
    "#rint('org_array.sort()[::-1] 호출 후 반환된 행렬 :',sort_desc_array2)\n",
    "#print('org_array.sort()[::-1] 호출 후 원본 행렬 : ',org_array)\n"
   ]
  },
  {
   "cell_type": "markdown",
   "id": "06c42684",
   "metadata": {},
   "source": [
    "<결론>\n",
    "\n",
    "arr1.sort()는 원본 자체에다가 덮어씌우는 결과를 가져오고\n",
    "np.sort(arr1)은 원본행렬은 유지한 채, arr1의 정렬 결과를 따로 저장함을 알 수 있다."
   ]
  },
  {
   "cell_type": "code",
   "execution_count": 44,
   "id": "054ed162",
   "metadata": {},
   "outputs": [
    {
     "name": "stdout",
     "output_type": "stream",
     "text": [
      "로우 방향으로 정렬 : \n",
      " [[ 7  1]\n",
      " [ 8 12]]\n",
      "컬럼 방향으로 정렬 : \n",
      " [[ 8 12]\n",
      " [ 1  7]]\n"
     ]
    }
   ],
   "source": [
    "#2차원 행렬에서의 정렬\n",
    "\n",
    "array2d = np.array([[8,12],[7,1]])\n",
    "\n",
    "sort_array2d_axis0 = np.sort(array2d,axis=0)\n",
    "print('로우 방향으로 정렬 : \\n',sort_array2d_axis0)\n",
    "\n",
    "sort_array2d_axis1 = np.sort(array2d,axis=1)\n",
    "print('컬럼 방향으로 정렬 : \\n',sort_array2d_axis1)"
   ]
  },
  {
   "cell_type": "code",
   "execution_count": 47,
   "id": "7d0082e6",
   "metadata": {},
   "outputs": [
    {
     "name": "stdout",
     "output_type": "stream",
     "text": [
      "[[1 2 6]\n",
      " [0 4 7]\n",
      " [2 3 5]] \n",
      "\n",
      "[[0 2 5]\n",
      " [1 3 6]\n",
      " [2 4 7]]\n"
     ]
    }
   ],
   "source": [
    "# 2차원 행렬 좀 더 자세히..\n",
    "\n",
    "# 1) 좌에서 우로 정렬 : 컬럼 기준 정렬\n",
    "x2 = np.array([[1,2,6],[0,4,7],[2,3,5]])\n",
    "\n",
    "x2_axis1 = np.sort(x2,axis=1)\n",
    "print(x2_axis1,'\\n')\n",
    "\n",
    "# 2) 위에서 아래로 정렬 : 로우 기준 정렬\n",
    "x2_axis0 = np.sort(x2,axis=0)\n",
    "print(x2_axis0)"
   ]
  },
  {
   "cell_type": "markdown",
   "id": "1785cf36",
   "metadata": {},
   "source": [
    "####    2) argsort"
   ]
  },
  {
   "cell_type": "code",
   "execution_count": 49,
   "id": "e377a50e",
   "metadata": {},
   "outputs": [
    {
     "name": "stdout",
     "output_type": "stream",
     "text": [
      "[1 3 5 9]\n",
      "<class 'numpy.ndarray'>\n",
      "행렬 정렬 시 원본 행렬의 인덱스 :  [1 0 3 2]\n"
     ]
    }
   ],
   "source": [
    "org_array = np.array([3,1,9,5])\n",
    "print(np.sort(org_array))\n",
    "\n",
    "sort_indices = np.argsort(org_array)\n",
    "\n",
    "print(type(sort_indices))\n",
    "print('행렬 정렬 시 원본 행렬의 인덱스 : ',sort_indices)"
   ]
  },
  {
   "cell_type": "code",
   "execution_count": 50,
   "id": "51fb8a14",
   "metadata": {},
   "outputs": [
    {
     "name": "stdout",
     "output_type": "stream",
     "text": [
      "<class 'numpy.ndarray'>\n",
      "행렬 내림차순 정렬 시 원본 행렬의 인덱스 : [2 3 0 1]\n"
     ]
    }
   ],
   "source": [
    "#이를 내림차순으로 정렬할 수 있다.\n",
    "\n",
    "sort_indices_desc = np.argsort(org_array)[::-1]\n",
    "\n",
    "print(type(sort_indices_desc))\n",
    "print('행렬 내림차순 정렬 시 원본 행렬의 인덱스 :',sort_indices_desc)"
   ]
  },
  {
   "cell_type": "markdown",
   "id": "eb05bc96",
   "metadata": {},
   "source": [
    "* key -value 형태의 데이터를 John=78, Mike=95, Sarah = 84, Kate =98, Samuel=88을 ndarray로 만들고, argsort()를 이용하여 key에 해당하는 값들을 정렬\n",
    "\n",
    "\n",
    "\n",
    "* 사람을 출력 사람이 key이기 때문"
   ]
  },
  {
   "cell_type": "code",
   "execution_count": 51,
   "id": "571d9254",
   "metadata": {},
   "outputs": [
    {
     "name": "stdout",
     "output_type": "stream",
     "text": [
      "sort_indices :  [0 2 4 1 3]\n",
      "['John' 'Sarah' 'Samuel' 'Mike' 'Kate']\n",
      "[78 84 88 95 98]\n"
     ]
    }
   ],
   "source": [
    "name = np.array(['John','Mike','Sarah','Kate','Samuel'])\n",
    "\n",
    "score = np.array([78,95,84,98,88])\n",
    "\n",
    "#score_array의 정렬된 값에 해당하는 원본 행렬의, 위치 인덱스를 반환\n",
    "sort_indices = np.argsort(score)\n",
    "\n",
    "print('sort_indices : ',sort_indices)\n",
    "\n",
    "name_array_sort = name[sort_indices]\n",
    "\n",
    "score_array_sort = score[sort_indices]\n",
    "\n",
    "print(name_array_sort)\n",
    "print(score_array_sort)"
   ]
  },
  {
   "cell_type": "markdown",
   "id": "ecb7e16c",
   "metadata": {},
   "source": [
    "#### 선형대수 연산 - 행렬 내적과 전치행렬 구하기\n",
    "\n",
    "\n",
    "##### 1) 행렬 내적"
   ]
  },
  {
   "cell_type": "code",
   "execution_count": 53,
   "id": "1d9b187d",
   "metadata": {},
   "outputs": [
    {
     "name": "stdout",
     "output_type": "stream",
     "text": [
      "[[ 58  64]\n",
      " [139 154]]\n"
     ]
    }
   ],
   "source": [
    "A = np.array([[1,2,3],[4,5,6]])\n",
    "B = np.array([[7,8],[9,10],[11,12]])\n",
    "\n",
    "dot_product = np.dot(A,B)\n",
    "print(dot_product)"
   ]
  },
  {
   "cell_type": "markdown",
   "id": "e2bbb7bb",
   "metadata": {},
   "source": [
    "#### 2) 전치 행렬"
   ]
  },
  {
   "cell_type": "code",
   "execution_count": 56,
   "id": "53806691",
   "metadata": {},
   "outputs": [
    {
     "name": "stdout",
     "output_type": "stream",
     "text": [
      "A의 전치 행렬 : \n",
      " [[1 3]\n",
      " [2 4]]\n"
     ]
    }
   ],
   "source": [
    "A =np.array([[1,2],[3,4]])\n",
    "\n",
    "transpose_mat = np.transpose(A)\n",
    "\n",
    "print('A의 전치 행렬 : \\n',transpose_mat)"
   ]
  },
  {
   "cell_type": "code",
   "execution_count": null,
   "id": "43700780",
   "metadata": {},
   "outputs": [],
   "source": []
  }
 ],
 "metadata": {
  "kernelspec": {
   "display_name": "Python 3",
   "language": "python",
   "name": "python3"
  },
  "language_info": {
   "codemirror_mode": {
    "name": "ipython",
    "version": 3
   },
   "file_extension": ".py",
   "mimetype": "text/x-python",
   "name": "python",
   "nbconvert_exporter": "python",
   "pygments_lexer": "ipython3",
   "version": "3.8.8"
  }
 },
 "nbformat": 4,
 "nbformat_minor": 5
}
