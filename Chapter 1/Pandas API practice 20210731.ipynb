{
 "cells": [
  {
   "cell_type": "markdown",
   "id": "3bd7e7ea",
   "metadata": {},
   "source": [
    "### Pandas 시작 - 파일을 DataFrame 로딩, 기본 API "
   ]
  },
  {
   "cell_type": "code",
   "execution_count": null,
   "id": "c16f92fd",
   "metadata": {},
   "outputs": [],
   "source": []
  }
 ],
 "metadata": {
  "kernelspec": {
   "display_name": "Python 3",
   "language": "python",
   "name": "python3"
  },
  "language_info": {
   "codemirror_mode": {
    "name": "ipython",
    "version": 3
   },
   "file_extension": ".py",
   "mimetype": "text/x-python",
   "name": "python",
   "nbconvert_exporter": "python",
   "pygments_lexer": "ipython3",
   "version": "3.8.8"
  }
 },
 "nbformat": 4,
 "nbformat_minor": 5
}
