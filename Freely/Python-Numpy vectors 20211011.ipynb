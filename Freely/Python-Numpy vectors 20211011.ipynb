{
 "cells": [
  {
   "cell_type": "markdown",
   "id": "9e1d5323",
   "metadata": {},
   "source": [
    "### Python-Numpy vectors"
   ]
  },
  {
   "cell_type": "code",
   "execution_count": 12,
   "id": "308778c8",
   "metadata": {},
   "outputs": [],
   "source": [
    "import numpy as np\n",
    "\n",
    "\n",
    "a = np.random.randn(5)\n"
   ]
  },
  {
   "cell_type": "code",
   "execution_count": 13,
   "id": "dfb63401",
   "metadata": {},
   "outputs": [
    {
     "name": "stdout",
     "output_type": "stream",
     "text": [
      "[-1.00684361 -0.92222921  1.94461751  0.59772408  0.2808055 ]\n"
     ]
    }
   ],
   "source": [
    "print(a)"
   ]
  },
  {
   "cell_type": "code",
   "execution_count": 14,
   "id": "1e7520ed",
   "metadata": {},
   "outputs": [
    {
     "name": "stdout",
     "output_type": "stream",
     "text": [
      "(5,)\n"
     ]
    }
   ],
   "source": [
    "print(a.shape)"
   ]
  },
  {
   "cell_type": "code",
   "execution_count": 15,
   "id": "4de9bc8f",
   "metadata": {},
   "outputs": [
    {
     "name": "stdout",
     "output_type": "stream",
     "text": [
      "[-1.00684361 -0.92222921  1.94461751  0.59772408  0.2808055 ]\n"
     ]
    }
   ],
   "source": [
    "print(a.T)"
   ]
  },
  {
   "cell_type": "code",
   "execution_count": 16,
   "id": "649778db",
   "metadata": {},
   "outputs": [
    {
     "name": "stdout",
     "output_type": "stream",
     "text": [
      "6.081903835467156\n"
     ]
    }
   ],
   "source": [
    "print(np.dot(a,a.T))"
   ]
  },
  {
   "cell_type": "code",
   "execution_count": 17,
   "id": "cd0adf3a",
   "metadata": {},
   "outputs": [
    {
     "name": "stdout",
     "output_type": "stream",
     "text": [
      "[-1.00684361 -0.92222921  1.94461751  0.59772408  0.2808055 ]\n",
      "a.T의 shape :  (5,)\n",
      "[-1.00684361 -0.92222921  1.94461751  0.59772408  0.2808055 ]\n",
      "a의 shape :  (5,)\n"
     ]
    }
   ],
   "source": [
    "print(a.T)\n",
    "print(\"a.T의 shape : \",a.T.shape)\n",
    "print(a)\n",
    "print(\"a의 shape : \",a.shape)"
   ]
  },
  {
   "cell_type": "markdown",
   "id": "03a9ba85",
   "metadata": {},
   "source": [
    "##### 위처럼 (5,)의 1차원으로 연산을 하게 되면 T에 대한 인식이 어렵다."
   ]
  },
  {
   "cell_type": "markdown",
   "id": "80749910",
   "metadata": {},
   "source": [
    "#### 항상 2차원으로 바꿔서 연산을 하도록한다. "
   ]
  },
  {
   "cell_type": "code",
   "execution_count": 18,
   "id": "01e83a6e",
   "metadata": {},
   "outputs": [
    {
     "name": "stdout",
     "output_type": "stream",
     "text": [
      "(5, 1)\n",
      "2차원 벡터 a의 shape : (5, 1)\n"
     ]
    }
   ],
   "source": [
    "a = np.random.randn(5,1)\n",
    "print(a.shape)\n",
    "print(\"2차원 벡터 a의 shape :\",a.shape)"
   ]
  },
  {
   "cell_type": "code",
   "execution_count": 19,
   "id": "f4b1127e",
   "metadata": {},
   "outputs": [
    {
     "name": "stdout",
     "output_type": "stream",
     "text": [
      "[[-1.03914548 -0.36290334 -0.61215103 -0.19500878  1.63246823]]\n",
      "2차원 벡터 a.T의 shape : (1, 5)\n"
     ]
    }
   ],
   "source": [
    "print(a.T)\n",
    "print(\"2차원 벡터 a.T의 shape :\",a.T.shape)"
   ]
  },
  {
   "cell_type": "code",
   "execution_count": 23,
   "id": "79fa06c4",
   "metadata": {},
   "outputs": [
    {
     "name": "stdout",
     "output_type": "stream",
     "text": [
      "a와 a.T를 곱하여 (5,1) (1,5)내적 곱의 짝을 맞춰준다 :\n",
      " [[ 1.07982333  0.37710937  0.63611397  0.2026425  -1.69637199]\n",
      " [ 0.37710937  0.13169884  0.22215166  0.07076934 -0.59242818]\n",
      " [ 0.63611397  0.22215166  0.37472888  0.11937483 -0.99931711]\n",
      " [ 0.2026425   0.07076934  0.11937483  0.03802843 -0.31834564]\n",
      " [-1.69637199 -0.59242818 -0.99931711 -0.31834564  2.66495253]]\n"
     ]
    }
   ],
   "source": [
    "#print(np.dot(a,a))\n",
    "#위 코드는 오류가 나기 때문에\n",
    "print(\"a와 a.T를 곱하여 (5,1) (1,5)내적 곱의 짝을 맞춰준다 :\\n\",np.dot(a,a.T))"
   ]
  },
  {
   "cell_type": "code",
   "execution_count": null,
   "id": "ebf22211",
   "metadata": {},
   "outputs": [],
   "source": []
  }
 ],
 "metadata": {
  "kernelspec": {
   "display_name": "Python 3",
   "language": "python",
   "name": "python3"
  },
  "language_info": {
   "codemirror_mode": {
    "name": "ipython",
    "version": 3
   },
   "file_extension": ".py",
   "mimetype": "text/x-python",
   "name": "python",
   "nbconvert_exporter": "python",
   "pygments_lexer": "ipython3",
   "version": "3.8.8"
  }
 },
 "nbformat": 4,
 "nbformat_minor": 5
}
