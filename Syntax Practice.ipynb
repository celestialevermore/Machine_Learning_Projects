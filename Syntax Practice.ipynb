{
 "cells": [
  {
   "cell_type": "markdown",
   "id": "5a04d2c4",
   "metadata": {},
   "source": [
    "#### Reshape함수\n",
    "\n",
    "- 차원을 변경할 때 많이 쓰입니다.\n",
    "- 2차원을 1차원으로, 1차원을 2차원으로 변경할 때 쓰입니다."
   ]
  },
  {
   "cell_type": "code",
   "execution_count": 24,
   "id": "45c6135b",
   "metadata": {},
   "outputs": [],
   "source": [
    "import numpy as np\n",
    "import pandas as pd\n",
    "\n",
    "\n",
    "sequence_array = np.arange(10)"
   ]
  },
  {
   "cell_type": "markdown",
   "id": "0074b43c",
   "metadata": {},
   "source": []
  },
  {
   "cell_type": "code",
   "execution_count": 25,
   "id": "0b3643c9",
   "metadata": {},
   "outputs": [
    {
     "name": "stdout",
     "output_type": "stream",
     "text": [
      "[0 1 2 3 4 5 6 7 8 9]\n"
     ]
    }
   ],
   "source": [
    "print(sequence_array)"
   ]
  },
  {
   "cell_type": "code",
   "execution_count": 27,
   "id": "9a8a5343",
   "metadata": {},
   "outputs": [
    {
     "name": "stdout",
     "output_type": "stream",
     "text": [
      "[[0 0]\n",
      " [0 0]\n",
      " [0 0]]\n",
      "\n",
      "[[1. 1.]\n",
      " [1. 1.]\n",
      " [1. 1.]]\n"
     ]
    }
   ],
   "source": [
    "zero_array = np.zeros((3,2),dtype='int32')\n",
    "print(zero_array)\n",
    "\n",
    "print()\n",
    "one_array = np.ones((3,2))\n",
    "print(one_array)"
   ]
  },
  {
   "cell_type": "code",
   "execution_count": 35,
   "id": "6c6f4d95",
   "metadata": {},
   "outputs": [
    {
     "name": "stdout",
     "output_type": "stream",
     "text": [
      "[0 1 2 3 4 5 6 7 8 9]\n",
      "[[0 1 2 3 4]\n",
      " [5 6 7 8 9]]\n",
      "\n",
      "[[0 1]\n",
      " [2 3]\n",
      " [4 5]\n",
      " [6 7]\n",
      " [8 9]]\n"
     ]
    }
   ],
   "source": [
    "array1d = np.arange(10)\n",
    "print(array1d)\n",
    "\n",
    "\n",
    "array2d = array1d.reshape(2,5)\n",
    "\n",
    "print(array2d)\n",
    "\n",
    "print()\n",
    "\n",
    "array3d = array1d.reshape(5,2)\n",
    "\n",
    "print(array3d)"
   ]
  },
  {
   "cell_type": "markdown",
   "id": "23c17c40",
   "metadata": {},
   "source": [
    "#### reshape(-1,5) 를 하면 -1을 제외한 다른 축이 고정이 되면서 가변적으로 설정이 됩니다."
   ]
  },
  {
   "cell_type": "code",
   "execution_count": 36,
   "id": "bf1b3a52",
   "metadata": {},
   "outputs": [
    {
     "name": "stdout",
     "output_type": "stream",
     "text": [
      "[0 1 2 3 4 5 6 7 8 9]\n",
      "array2d : [[0 1 2 3 4]\n",
      " [5 6 7 8 9]]\n",
      "array3d [[0 1]\n",
      " [2 3]\n",
      " [4 5]\n",
      " [6 7]\n",
      " [8 9]]\n"
     ]
    }
   ],
   "source": [
    "array1d = np.arange(10)\n",
    "\n",
    "print(array1d)\n",
    "\n",
    "array2d  = array1d.reshape(2,5)\n",
    "\n",
    "print('array2d :',array2d)\n",
    "\n",
    "\n",
    "# 로우 axis 크기는 5로 고정하고 컬럼 axis 크기는 이에 맞춰서 자동으로 변환합니다. \n",
    "array3d = array1d.reshape(5,-1)\n",
    "\n",
    "print('array3d',array3d)"
   ]
  },
  {
   "cell_type": "markdown",
   "id": "28b1a914",
   "metadata": {},
   "source": [
    "#### reshape(-1,1)은 2차원 1행 x열로 변환하게 하는 것이고, \n",
    "#### reshape(-1,)은 1차원 배열로 flatten하게 만드는 방법이다."
   ]
  },
  {
   "cell_type": "code",
   "execution_count": 38,
   "id": "0c4276ef",
   "metadata": {},
   "outputs": [
    {
     "name": "stdout",
     "output_type": "stream",
     "text": [
      "4d: [[0]\n",
      " [1]\n",
      " [2]\n",
      " [3]\n",
      " [4]\n",
      " [5]\n",
      " [6]\n",
      " [7]\n",
      " [8]\n",
      " [9]]\n",
      "5d: [0 1 2 3 4 5 6 7 8 9]\n"
     ]
    }
   ],
   "source": [
    "array1d = np.arange(10)\n",
    "\n",
    "array4d = array1d.reshape(-1,1)\n",
    "\n",
    "print('4d:',array4d)\n",
    "\n",
    "array5d = array4d.reshape(-1,)\n",
    "\n",
    "print('5d:',array5d)"
   ]
  },
  {
   "cell_type": "markdown",
   "id": "dccefe3b",
   "metadata": {},
   "source": [
    "### ndarray의 데이터 세트 선택하기 - 인덱싱(Indexing)\n"
   ]
  },
  {
   "cell_type": "markdown",
   "id": "9015d23c",
   "metadata": {},
   "source": [
    "- 특정 위치의 단일값을 추출"
   ]
  },
  {
   "cell_type": "code",
   "execution_count": 47,
   "id": "ba1e6b01",
   "metadata": {},
   "outputs": [
    {
     "name": "stdout",
     "output_type": "stream",
     "text": [
      "[[0 1 2]\n",
      " [3 4 5]\n",
      " [6 7 8]]\n",
      "[[6 7 8]]\n",
      "[[4 5]\n",
      " [7 8]]\n"
     ]
    }
   ],
   "source": [
    "arr1 = np.arange(9)\n",
    "\n",
    "arr2 = arr1.reshape(3,3)\n",
    "\n",
    "print(arr2)\n",
    "print(arr2[1:3][1:3])\n",
    "print(arr2[1:3,1:3])"
   ]
  },
  {
   "cell_type": "markdown",
   "id": "27a7271f",
   "metadata": {},
   "source": [
    "#### 불린 인덱싱 : 매우 자주 사용되는 인덱싱\n",
    "\n",
    "- ndarray 내의 값이 5보다 큰 array를 추출하고자 한다면???"
   ]
  },
  {
   "cell_type": "code",
   "execution_count": 48,
   "id": "fb9093fd",
   "metadata": {},
   "outputs": [
    {
     "name": "stdout",
     "output_type": "stream",
     "text": [
      "[6 7 8 9]\n"
     ]
    }
   ],
   "source": [
    "arr1 = np.arange(1,10)\n",
    "\n",
    "target = []\n",
    "\n",
    "for i in range(len(arr1)):\n",
    "    if arr1[i] >5 :\n",
    "        target.append(arr1[i])\n",
    "    else:\n",
    "        pass\n",
    "    \n",
    "array_selected = np.array(target)\n",
    "\n",
    "print(array_selected)\n",
    "\n",
    "#이런 식으로 지저분하게 돌려야 하는데 Pythonic한 코드는"
   ]
  },
  {
   "cell_type": "code",
   "execution_count": 55,
   "id": "e497c305",
   "metadata": {},
   "outputs": [
    {
     "name": "stdout",
     "output_type": "stream",
     "text": [
      "[[ 7  1]\n",
      " [ 8 12]]\n",
      "[[ 8 12]\n",
      " [ 1  7]]\n"
     ]
    }
   ],
   "source": [
    "arr2d = [[8,12],\n",
    "        [7,1]]\n",
    "\n",
    "arr2d0=np.sort(arr2d,axis=0)\n",
    "arr2d1 = np.sort(arr2d,axis=1)\n",
    "\n",
    "print(arr2d0)\n",
    "print(arr2d1)"
   ]
  },
  {
   "cell_type": "markdown",
   "id": "6c52c9eb",
   "metadata": {},
   "source": [
    "#### 행렬의 정렬 - sort()와 argsort()\n",
    "- 행렬 정렬"
   ]
  },
  {
   "cell_type": "code",
   "execution_count": 63,
   "id": "c5b87491",
   "metadata": {},
   "outputs": [
    {
     "name": "stdout",
     "output_type": "stream",
     "text": [
      "원본 행렬 : [3 1 9 5]\n",
      "None\n",
      "[1 3 5 9]\n"
     ]
    }
   ],
   "source": [
    "org_array = np.array([3,1,9,5])\n",
    "\n",
    "print('원본 행렬 :',org_array)\n",
    "\n",
    "#np.sort()로 정렬합니다.\n",
    "#org_array를 인자로 call_by_ref로 넘겨주는 방식\n",
    "sort_array1 = np.sort(org_array)\n",
    "\n",
    "#ndarray.sort()로 정렬\n",
    "#원본 행렬에 그 자체에 대해 정렬을 해두는 것입니다.\n",
    "sort_array2 = org_array.sort()\n",
    "\n",
    "print(sort_array2)\n",
    "print(org_array)"
   ]
  },
  {
   "cell_type": "code",
   "execution_count": null,
   "id": "78e9c609",
   "metadata": {},
   "outputs": [],
   "source": []
  },
  {
   "cell_type": "code",
   "execution_count": null,
   "id": "9af594f6",
   "metadata": {},
   "outputs": [],
   "source": []
  },
  {
   "cell_type": "code",
   "execution_count": null,
   "id": "a5c3b1e1",
   "metadata": {},
   "outputs": [],
   "source": []
  }
 ],
 "metadata": {
  "kernelspec": {
   "display_name": "Python 3",
   "language": "python",
   "name": "python3"
  },
  "language_info": {
   "codemirror_mode": {
    "name": "ipython",
    "version": 3
   },
   "file_extension": ".py",
   "mimetype": "text/x-python",
   "name": "python",
   "nbconvert_exporter": "python",
   "pygments_lexer": "ipython3",
   "version": "3.8.8"
  }
 },
 "nbformat": 4,
 "nbformat_minor": 5
}
